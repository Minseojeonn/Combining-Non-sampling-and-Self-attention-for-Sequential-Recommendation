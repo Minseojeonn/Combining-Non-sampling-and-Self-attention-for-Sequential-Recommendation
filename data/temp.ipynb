{
 "cells": [
  {
   "cell_type": "code",
   "execution_count": null,
   "metadata": {},
   "outputs": [],
   "source": [
    "from collections import defaultdict\n",
    "\n",
    "adj = defaultdict(list)\n",
    "with open(\"ml-1m.txt\") as f:\n",
    "    data = f.readlines()\n",
    "    for i in data:\n",
    "        u, v = i.strip(\"\\n\").split()\n",
    "        adj[u].append(v)\n",
    "        "
   ]
  }
 ],
 "metadata": {
  "kernelspec": {
   "display_name": "dvg",
   "language": "python",
   "name": "python3"
  },
  "language_info": {
   "name": "python",
   "version": "3.12.3"
  }
 },
 "nbformat": 4,
 "nbformat_minor": 2
}
